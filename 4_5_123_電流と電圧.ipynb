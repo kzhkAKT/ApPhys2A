{
  "nbformat": 4,
  "nbformat_minor": 0,
  "metadata": {
    "colab": {
      "provenance": [],
      "authorship_tag": "ABX9TyPKEIM2F34Mm4cOtmdeWjwX",
      "include_colab_link": true
    },
    "kernelspec": {
      "name": "python3",
      "display_name": "Python 3"
    },
    "language_info": {
      "name": "python"
    }
  },
  "cells": [
    {
      "cell_type": "markdown",
      "metadata": {
        "id": "view-in-github",
        "colab_type": "text"
      },
      "source": [
        "<a href=\"https://colab.research.google.com/github/kzhkAKT/ApPhys2A/blob/draft/4_5_123_%E9%9B%BB%E6%B5%81%E3%81%A8%E9%9B%BB%E5%9C%A7.ipynb\" target=\"_parent\"><img src=\"https://colab.research.google.com/assets/colab-badge.svg\" alt=\"Open In Colab\"/></a>"
      ]
    },
    {
      "cell_type": "markdown",
      "source": [
        "# 第1回目"
      ],
      "metadata": {
        "id": "lEPARrJ586bO"
      }
    },
    {
      "cell_type": "markdown",
      "source": [
        "- 4.5 電流と電圧\n",
        "    - 4.5.1 電流\n",
        "    - 4.5.2 オームの法則\n",
        "    - 4.5.3 電力とジュール熱"
      ],
      "metadata": {
        "id": "9YDkkVNS89zG"
      }
    },
    {
      "cell_type": "markdown",
      "source": [
        "## 4.5.1 電流"
      ],
      "metadata": {
        "id": "SmXMOnSgNXcl"
      }
    },
    {
      "cell_type": "code",
      "source": [
        "# @title 抵抗器の仕組み\n",
        "%%html\n",
        "<iframe width=\"560\" height=\"315\" src=\"https://www.youtube-nocookie.com/embed/lwvgG1DBfuU?si=pB_G-mUzi0BAAQYc\" title=\"YouTube video player\" frameborder=\"0\" allow=\"accelerometer; autoplay; clipboard-write; encrypted-media; gyroscope; picture-in-picture; web-share\" referrerpolicy=\"strict-origin-when-cross-origin\" allowfullscreen></iframe>"
      ],
      "metadata": {
        "colab": {
          "base_uri": "https://localhost:8080/",
          "height": 336
        },
        "cellView": "form",
        "id": "-pGBqOGn9Aj-",
        "outputId": "916ec8d2-98ee-40e2-8b09-3c3a0c543a31"
      },
      "execution_count": null,
      "outputs": [
        {
          "output_type": "display_data",
          "data": {
            "text/plain": [
              "<IPython.core.display.HTML object>"
            ],
            "text/html": [
              "<iframe width=\"560\" height=\"315\" src=\"https://www.youtube-nocookie.com/embed/lwvgG1DBfuU?si=pB_G-mUzi0BAAQYc\" title=\"YouTube video player\" frameborder=\"0\" allow=\"accelerometer; autoplay; clipboard-write; encrypted-media; gyroscope; picture-in-picture; web-share\" referrerpolicy=\"strict-origin-when-cross-origin\" allowfullscreen></iframe>\n"
            ]
          },
          "metadata": {}
        }
      ]
    },
    {
      "cell_type": "markdown",
      "source": [
        "### 電流と電子の方向"
      ],
      "metadata": {
        "id": "1-VC99fUDUci"
      }
    },
    {
      "cell_type": "markdown",
      "source": [
        "- https://www2.nhk.or.jp/school/watch/clip/?das_id=D0005301345_00000"
      ],
      "metadata": {
        "id": "AD0cfr1gDYAp"
      }
    },
    {
      "cell_type": "code",
      "source": [
        "#@title 歴史的に電流が先に定義され、電子の存在が理解された\n",
        "%%html\n",
        "<iframe width=\"560\" height=\"315\" src=\"https://www.youtube-nocookie.com/embed/xoggLr1lLgE?si=ctlwdgTjwrdQo00C\" title=\"YouTube video player\" frameborder=\"0\" allow=\"accelerometer; autoplay; clipboard-write; encrypted-media; gyroscope; picture-in-picture; web-share\" referrerpolicy=\"strict-origin-when-cross-origin\" allowfullscreen></iframe>"
      ],
      "metadata": {
        "colab": {
          "base_uri": "https://localhost:8080/",
          "height": 336
        },
        "cellView": "form",
        "id": "aBbf0JrODo3T",
        "outputId": "5fd8356b-a58e-4b61-f575-5de4b016fd47"
      },
      "execution_count": null,
      "outputs": [
        {
          "output_type": "display_data",
          "data": {
            "text/plain": [
              "<IPython.core.display.HTML object>"
            ],
            "text/html": [
              "<iframe width=\"560\" height=\"315\" src=\"https://www.youtube-nocookie.com/embed/xoggLr1lLgE?si=ctlwdgTjwrdQo00C\" title=\"YouTube video player\" frameborder=\"0\" allow=\"accelerometer; autoplay; clipboard-write; encrypted-media; gyroscope; picture-in-picture; web-share\" referrerpolicy=\"strict-origin-when-cross-origin\" allowfullscreen></iframe>\n"
            ]
          },
          "metadata": {}
        }
      ]
    },
    {
      "cell_type": "markdown",
      "source": [
        "電流の単位\n",
        "\\begin{align*}\n",
        "{\\rm 1~A}  = {\\rm 1~C/s}  =\\dfrac{\\rm 1~C}{\\rm 1~s}\n",
        "\\end{align*}\n",
        "![](https://s3-us-west-2.amazonaws.com/courses-images-archive-read-only/wp-content/uploads/sites/222/2014/12/20105912/Figure_21_01_01a.jpg)\n",
        "\n",
        "断面積 = Area = **S**ection\n",
        "\n",
        "---\n",
        "from [https://courses.lumenlearning.com/](https://courses.lumenlearning.com/suny-physics/chapter/20-1-current/0)\n",
        "\n",
        "\n",
        "\\begin{align*}\n",
        "I\n",
        "&= \\dfrac{Q}{t}\\\\[2mm]\n",
        "&= \\dfrac{Q - 0 }{t - 0} = \\dfrac{\\Delta Q}{\\Delta t}\n",
        "\\end{align*}\n",
        "\n",
        "時間 $t$ の間に断面積 $S$ を通過する電子の数は\n",
        "- 電荷の密度を $n$\n",
        "- 電荷の(直線)速度を $v$\n",
        "- 導線の断面積 $S$\n",
        "\\begin{align*}\n",
        "Q &= e\\, (n \\cdot \\text{Volume}) \\\\\n",
        "&= e\\,n\\,(S\\,\\ell) =  e\\,n\\,S\\,(v\\,t)\n",
        "\\end{align*}\n",
        "\n",
        "よって電流の定義より\n",
        "\\begin{align*}\n",
        "I\n",
        "&= \\dfrac{Q}{t} = \\dfrac{e\\,n\\,S\\,v\\,t}{t} = e\\,n\\,S\\,v\n",
        "\\end{align*}"
      ],
      "metadata": {
        "id": "64EdE2PuIma9"
      }
    },
    {
      "cell_type": "markdown",
      "source": [
        "## 4.5.2 オームの法則"
      ],
      "metadata": {
        "id": "dmQl3dZUNeRR"
      }
    },
    {
      "cell_type": "code",
      "source": [
        "#@title Ohm's Law/オームの法則\n",
        "#@markdown\n",
        "%%html\n",
        "<iframe src=\"https://phet.colorado.edu/sims/html/ohms-law/latest/ohms-law_en.html\"\n",
        "        width=\"800\"\n",
        "        height=\"600\"\n",
        "        allowfullscreen>\n",
        "</iframe>"
      ],
      "metadata": {
        "colab": {
          "base_uri": "https://localhost:8080/",
          "height": 625
        },
        "cellView": "form",
        "id": "jqJ2TuKMeHv8",
        "outputId": "8c252a09-b905-4f27-8583-aedcd3663a31"
      },
      "execution_count": null,
      "outputs": [
        {
          "output_type": "display_data",
          "data": {
            "text/plain": [
              "<IPython.core.display.HTML object>"
            ],
            "text/html": [
              "<iframe src=\"https://phet.colorado.edu/sims/html/ohms-law/latest/ohms-law_en.html\"\n",
              "        width=\"800\"\n",
              "        height=\"600\"\n",
              "        allowfullscreen>\n",
              "</iframe>\n"
            ]
          },
          "metadata": {}
        }
      ]
    },
    {
      "cell_type": "code",
      "source": [
        "#@title Resistance in a Wire/ 導線の抵抗\n",
        "#@markdown\n",
        "%%html\n",
        "<iframe src=\"https://phet.colorado.edu/sims/html/resistance-in-a-wire/latest/resistance-in-a-wire_en.html\"\n",
        "        width=\"800\"\n",
        "        height=\"600\"\n",
        "        allowfullscreen>\n",
        "</iframe>"
      ],
      "metadata": {
        "colab": {
          "base_uri": "https://localhost:8080/",
          "height": 625
        },
        "id": "dcjTE2yTeROJ",
        "outputId": "3c58d592-4de1-44b6-bcb9-3a3640961914",
        "cellView": "form"
      },
      "execution_count": null,
      "outputs": [
        {
          "output_type": "display_data",
          "data": {
            "text/plain": [
              "<IPython.core.display.HTML object>"
            ],
            "text/html": [
              "<iframe src=\"https://phet.colorado.edu/sims/html/resistance-in-a-wire/latest/resistance-in-a-wire_en.html\"\n",
              "        width=\"800\"\n",
              "        height=\"600\"\n",
              "        allowfullscreen>\n",
              "</iframe>\n"
            ]
          },
          "metadata": {}
        }
      ]
    },
    {
      "cell_type": "markdown",
      "source": [
        "### 抵抗率の温度係数 $\\alpha$"
      ],
      "metadata": {
        "id": "9m_BqQOolah7"
      }
    },
    {
      "cell_type": "markdown",
      "source": [
        "\\begin{align*}\n",
        "\\rho = \\rho_0 \\left( 1 + \\alpha\\, t\\right)\n",
        "\\end{align*}\n",
        "\n",
        "\\begin{align*}\n",
        "\\require{cancel}\n",
        "\\Delta \\rho = \\rho - \\rho_0\n",
        "&\\propto\n",
        "\\begin{cases}\n",
        "\\rho_0\\\\\n",
        "t - \\cancelto{\\rm 0 ^\\circ~C}{t_0}\n",
        "\\end{cases}\\\\\n",
        "\\rho - \\rho_0 &\\propto \\rho_0\\, t\\\\[5mm]\n",
        "\\rho - \\rho_0 &= \\alpha\\,\\rho_0\\, t\n",
        "\\end{align*}"
      ],
      "metadata": {
        "id": "U01iWyqylkgg"
      }
    },
    {
      "cell_type": "markdown",
      "source": [
        "## 4.5.3 電力とジュール熱"
      ],
      "metadata": {
        "id": "L-WIXRRnN6qN"
      }
    },
    {
      "cell_type": "code",
      "source": [
        "#@title Joule heat\n",
        "%%html\n",
        "<iframe width=\"560\" height=\"315\" src=\"https://www.youtube-nocookie.com/embed/0z_bCUf-xMM?si=0Vjf0tfdGipmy_s4\" title=\"YouTube video player\" frameborder=\"0\" allow=\"accelerometer; autoplay; clipboard-write; encrypted-media; gyroscope; picture-in-picture; web-share\" referrerpolicy=\"strict-origin-when-cross-origin\" allowfullscreen></iframe>"
      ],
      "metadata": {
        "colab": {
          "base_uri": "https://localhost:8080/",
          "height": 336
        },
        "cellView": "form",
        "id": "46O0HowoA9hB",
        "outputId": "b81eb154-ca9e-4279-d95a-b32b916ee944"
      },
      "execution_count": null,
      "outputs": [
        {
          "output_type": "display_data",
          "data": {
            "text/plain": [
              "<IPython.core.display.HTML object>"
            ],
            "text/html": [
              "<iframe width=\"560\" height=\"315\" src=\"https://www.youtube-nocookie.com/embed/0z_bCUf-xMM?si=0Vjf0tfdGipmy_s4\" title=\"YouTube video player\" frameborder=\"0\" allow=\"accelerometer; autoplay; clipboard-write; encrypted-media; gyroscope; picture-in-picture; web-share\" referrerpolicy=\"strict-origin-when-cross-origin\" allowfullscreen></iframe>\n"
            ]
          },
          "metadata": {}
        }
      ]
    },
    {
      "cell_type": "markdown",
      "source": [
        "一電荷あたりに働く仕事は\n",
        "- $f=e\\,E$ 電場 $E$ 中に働く電荷 $e$ の力 $f$\n",
        "- 電流の速度を$v$, 計測時間を $t$\n",
        "\n",
        "\\begin{align*}\n",
        "w & = f\\,\\ell = \\left( e\\,E \\right) (v\\,t)\n",
        "\\end{align*}\n",
        "\n",
        "- 導線の長さを$L$, そこに 電位差 $V$ があれば\n",
        "  - 単位電荷に対して、単位長あたりの電位差が $E = \\dfrac{V}{L}$\n",
        "- 導線の長さ$L$には、$N=\\,n\\,S\\,L$ 個の電荷がある\n",
        "\n",
        "導線内で電場からなされる仕事は\n",
        "\n",
        "\\begin{align*}\n",
        "W &= N\\,w = e n\\,S\\,L\\left(\\dfrac{V}{L} \\right) (v\\,t)\\\\\n",
        "&= e\\,n\\,S\\,v\\cdot V t = I V t\\\\\n",
        "&= I (I\\,R) t \\\\[2mm]\n",
        "W &= I^2 R t\n",
        "\\end{align*}"
      ],
      "metadata": {
        "id": "SNR-HQaAOCUj"
      }
    },
    {
      "cell_type": "markdown",
      "source": [
        "#### 導線内で消費される仕事率 $P=\\dfrac{W}{t}$"
      ],
      "metadata": {
        "id": "AMTuBpzyQmrN"
      }
    },
    {
      "cell_type": "markdown",
      "source": [
        "\\begin{align*}\n",
        "P &= \\dfrac{W}{t} \\\\[1mm]\n",
        "&= \\dfrac{I V t}{t} = I\\,V\\\\\n",
        "&= IV = I\\,(I\\,R)= I^2\\,R\\\\\n",
        "&= IV = \\frac{V}{R}\\,V = \\dfrac{V^2}{R}\n",
        "\\end{align*}"
      ],
      "metadata": {
        "id": "s5kcnUUMRmAn"
      }
    }
  ]
}