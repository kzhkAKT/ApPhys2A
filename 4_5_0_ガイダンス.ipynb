{
  "nbformat": 4,
  "nbformat_minor": 0,
  "metadata": {
    "colab": {
      "provenance": [],
      "authorship_tag": "ABX9TyMr5HPl/8c9uqjpK3ftydKS",
      "include_colab_link": true
    },
    "kernelspec": {
      "name": "python3",
      "display_name": "Python 3"
    },
    "language_info": {
      "name": "python"
    }
  },
  "cells": [
    {
      "cell_type": "markdown",
      "metadata": {
        "id": "view-in-github",
        "colab_type": "text"
      },
      "source": [
        "<a href=\"https://colab.research.google.com/github/kzhkAKT/ApPhys2A/blob/draft/4_5_0_%E3%82%AC%E3%82%A4%E3%83%80%E3%83%B3%E3%82%B9.ipynb\" target=\"_parent\"><img src=\"https://colab.research.google.com/assets/colab-badge.svg\" alt=\"Open In Colab\"/></a>"
      ]
    },
    {
      "cell_type": "markdown",
      "source": [
        "# Syllabus\n",
        "\n",
        "- [4C 応用物理ⅡA](https://syllabus.kosen-k.go.jp/Pages/PublicSyllabus?school_id=08&department_id=35&subject_id=0014&year=2021&lang=ja)\n",
        "- [4B 応用物理ⅡA](https://syllabus.kosen-k.go.jp/Pages/PublicSubjects?school_id=08&department_id=37&year=2024&lang=ja)"
      ],
      "metadata": {
        "id": "C0GrcPFMSBLC"
      }
    },
    {
      "cell_type": "markdown",
      "source": [
        "## 教材"
      ],
      "metadata": {
        "id": "s_DazpCTSYGM"
      }
    },
    {
      "cell_type": "markdown",
      "source": [
        "\n",
        "- 教科書：高専テキストシリーズ「物理 (下) 熱・電磁気・原子」 潮 秀樹 監修，大野秀樹 他 編集，森北出版\n",
        "\n",
        "- 問題集：高専テキストシリーズ「物理問題集」 潮 秀樹 監修，大野秀樹 他 編集， 森北出版\n",
        "- 真緑色の問題集\n",
        "  - 資料集：「フォトサイエンス 物理図録」数研出版編集部 編， 数研出版 その他：必要に応じて，自製プリント等を配布"
      ],
      "metadata": {
        "id": "uFRRGNmTkBky"
      }
    },
    {
      "cell_type": "markdown",
      "source": [
        "### 学習済み内容/物理III"
      ],
      "metadata": {
        "id": "KFm0HYppuGbZ"
      }
    },
    {
      "cell_type": "markdown",
      "source": [
        "4 電気と磁気\n",
        " - 4.1 静電気力\n",
        "  - 4.1.1 带電\n",
        "   - 4.1.2 クーロンの法則\n",
        " - 4.2 電界とガウスの法則\n",
        "   - 4.2.1 電界\n",
        "   - 4.2.2 電気力線\n",
        "   - 4.2.3 ガウスの法則\n",
        " - 4.3 電位\n",
        "   - 4.3.1 電位と電位差\n",
        "   - 4.3.2 等電位面\n",
        "   - 4.3.3 導体と静電誘導\n",
        "   - 4.3.4 靜電遮蔽\n",
        "   - 4.4 コンデンサー\n",
        "   - 4.4.1 コンデンサーと電気容量\n",
        "   - 4.4.2 誘電体と誘電分極\n",
        "   - 4.4.3 コンデンサーの接続\n",
        "   - 4.4.4 コンデンサーのエネルギー\n"
      ],
      "metadata": {
        "id": "jrZzGsKHttO6"
      }
    },
    {
      "cell_type": "code",
      "source": [
        "#@title 帯電\n",
        "%%html\n",
        "<iframe src=\"https://phet.colorado.edu/sims/html/john-travoltage/latest/john-travoltage_en.html\"\n",
        "        width=\"800\"\n",
        "        height=\"600\"\n",
        "        allowfullscreen>\n",
        "</iframe>"
      ],
      "metadata": {
        "colab": {
          "base_uri": "https://localhost:8080/",
          "height": 625
        },
        "cellView": "form",
        "id": "Mq8UViiRwiQJ",
        "outputId": "1aa6091e-e859-43f7-b847-b87ab282e821"
      },
      "execution_count": null,
      "outputs": [
        {
          "output_type": "display_data",
          "data": {
            "text/plain": [
              "<IPython.core.display.HTML object>"
            ],
            "text/html": [
              "<iframe src=\"https://phet.colorado.edu/sims/html/john-travoltage/latest/john-travoltage_en.html\"\n",
              "        width=\"800\"\n",
              "        height=\"600\"\n",
              "        allowfullscreen>\n",
              "</iframe>\n"
            ]
          },
          "metadata": {}
        }
      ]
    },
    {
      "cell_type": "code",
      "source": [
        "#@title クーロン力\n",
        "%%html\n",
        "<iframe src=\"https://phet.colorado.edu/sims/html/coulombs-law/latest/coulombs-law_en.html\"\n",
        "        width=\"800\"\n",
        "        height=\"600\"\n",
        "        allowfullscreen>\n",
        "</iframe>"
      ],
      "metadata": {
        "colab": {
          "base_uri": "https://localhost:8080/",
          "height": 625
        },
        "cellView": "form",
        "id": "pnk2jsCvwIlv",
        "outputId": "b0de6876-7819-491c-998a-eed418272654"
      },
      "execution_count": null,
      "outputs": [
        {
          "output_type": "display_data",
          "data": {
            "text/plain": [
              "<IPython.core.display.HTML object>"
            ],
            "text/html": [
              "<iframe src=\"https://phet.colorado.edu/sims/html/coulombs-law/latest/coulombs-law_en.html\"\n",
              "        width=\"800\"\n",
              "        height=\"600\"\n",
              "        allowfullscreen>\n",
              "</iframe>\n"
            ]
          },
          "metadata": {}
        }
      ]
    },
    {
      "cell_type": "code",
      "source": [
        "#@title 電界と電位\n",
        "%%html\n",
        "<iframe src=\"https://phet.colorado.edu/sims/html/charges-and-fields/latest/charges-and-fields_en.html\"\n",
        "        width=\"800\"\n",
        "        height=\"600\"\n",
        "        allowfullscreen>\n",
        "</iframe>"
      ],
      "metadata": {
        "colab": {
          "base_uri": "https://localhost:8080/",
          "height": 625
        },
        "cellView": "form",
        "id": "2SZ2oVBtwzp7",
        "outputId": "4e9d5e54-ca87-45ab-b72b-37e3b3c5c69a"
      },
      "execution_count": null,
      "outputs": [
        {
          "output_type": "display_data",
          "data": {
            "text/plain": [
              "<IPython.core.display.HTML object>"
            ],
            "text/html": [
              "<iframe src=\"https://phet.colorado.edu/sims/html/charges-and-fields/latest/charges-and-fields_en.html\"\n",
              "        width=\"800\"\n",
              "        height=\"600\"\n",
              "        allowfullscreen>\n",
              "</iframe>\n"
            ]
          },
          "metadata": {}
        }
      ]
    },
    {
      "cell_type": "code",
      "source": [
        "#@title 水流の吹き出し\n",
        "%%html\n",
        "<iframe width=\"560\" height=\"315\" src=\"https://www.youtube-nocookie.com/embed/YtSy1yUkDE0?si=iMU3Zkoi-nChLjuD\" title=\"YouTube video player\" frameborder=\"0\" allow=\"accelerometer; autoplay; clipboard-write; encrypted-media; gyroscope; picture-in-picture; web-share\" referrerpolicy=\"strict-origin-when-cross-origin\" allowfullscreen></iframe>"
      ],
      "metadata": {
        "colab": {
          "base_uri": "https://localhost:8080/",
          "height": 336
        },
        "cellView": "form",
        "id": "Nsieh67g_V0y",
        "outputId": "03247b2e-a337-4931-a6f1-4ba46cb9626b"
      },
      "execution_count": null,
      "outputs": [
        {
          "output_type": "display_data",
          "data": {
            "text/plain": [
              "<IPython.core.display.HTML object>"
            ],
            "text/html": [
              "<iframe width=\"560\" height=\"315\" src=\"https://www.youtube-nocookie.com/embed/YtSy1yUkDE0?si=iMU3Zkoi-nChLjuD\" title=\"YouTube video player\" frameborder=\"0\" allow=\"accelerometer; autoplay; clipboard-write; encrypted-media; gyroscope; picture-in-picture; web-share\" referrerpolicy=\"strict-origin-when-cross-origin\" allowfullscreen></iframe>\n"
            ]
          },
          "metadata": {}
        }
      ]
    },
    {
      "cell_type": "code",
      "source": [
        "#@title 水流の吸い込み\n",
        "%%html\n",
        "<iframe width=\"560\" height=\"315\" src=\"https://www.youtube-nocookie.com/embed/m4yy0U_fHNk?si=ROPn5eK86KEUcqCH\" title=\"YouTube video player\" frameborder=\"0\" allow=\"accelerometer; autoplay; clipboard-write; encrypted-media; gyroscope; picture-in-picture; web-share\" referrerpolicy=\"strict-origin-when-cross-origin\" allowfullscreen></iframe>"
      ],
      "metadata": {
        "colab": {
          "base_uri": "https://localhost:8080/",
          "height": 336
        },
        "cellView": "form",
        "id": "f5esgAP2AY5f",
        "outputId": "e961f39b-5e67-4055-8a38-ab34a7fb92ce"
      },
      "execution_count": null,
      "outputs": [
        {
          "output_type": "display_data",
          "data": {
            "text/plain": [
              "<IPython.core.display.HTML object>"
            ],
            "text/html": [
              "<iframe width=\"560\" height=\"315\" src=\"https://www.youtube-nocookie.com/embed/m4yy0U_fHNk?si=ROPn5eK86KEUcqCH\" title=\"YouTube video player\" frameborder=\"0\" allow=\"accelerometer; autoplay; clipboard-write; encrypted-media; gyroscope; picture-in-picture; web-share\" referrerpolicy=\"strict-origin-when-cross-origin\" allowfullscreen></iframe>\n"
            ]
          },
          "metadata": {}
        }
      ]
    },
    {
      "cell_type": "code",
      "source": [
        "#@title 帯電と分極\n",
        "%%html\n",
        "<iframe src=\"https://phet.colorado.edu/sims/html/balloons-and-static-electricity/latest/balloons-and-static-electricity_en.html\"\n",
        "        width=\"800\"\n",
        "        height=\"600\"\n",
        "        allowfullscreen>\n",
        "</iframe>"
      ],
      "metadata": {
        "cellView": "form",
        "colab": {
          "base_uri": "https://localhost:8080/",
          "height": 625
        },
        "id": "NyqXUKzTxi5f",
        "outputId": "7352ce6a-6d78-47ef-d293-5bea67836fbc"
      },
      "execution_count": null,
      "outputs": [
        {
          "output_type": "display_data",
          "data": {
            "text/plain": [
              "<IPython.core.display.HTML object>"
            ],
            "text/html": [
              "<iframe src=\"https://phet.colorado.edu/sims/html/balloons-and-static-electricity/latest/balloons-and-static-electricity_en.html\"\n",
              "        width=\"800\"\n",
              "        height=\"600\"\n",
              "        allowfullscreen>\n",
              "</iframe>\n"
            ]
          },
          "metadata": {}
        }
      ]
    },
    {
      "cell_type": "code",
      "source": [
        "#@title コンデンサの動作確認\n",
        "%%html\n",
        "<iframe src=\"https://phet.colorado.edu/sims/html/capacitor-lab-basics/latest/capacitor-lab-basics_en.html\"\n",
        "        width=\"800\"\n",
        "        height=\"600\"\n",
        "        allowfullscreen>\n",
        "</iframe>"
      ],
      "metadata": {
        "colab": {
          "base_uri": "https://localhost:8080/",
          "height": 625
        },
        "cellView": "form",
        "id": "sWjqR2Fpxxot",
        "outputId": "3906538a-a539-4b49-d299-02e3c43f19f9"
      },
      "execution_count": null,
      "outputs": [
        {
          "output_type": "display_data",
          "data": {
            "text/plain": [
              "<IPython.core.display.HTML object>"
            ],
            "text/html": [
              "<iframe src=\"https://phet.colorado.edu/sims/html/capacitor-lab-basics/latest/capacitor-lab-basics_en.html\"\n",
              "        width=\"800\"\n",
              "        height=\"600\"\n",
              "        allowfullscreen>\n",
              "</iframe>\n"
            ]
          },
          "metadata": {}
        }
      ]
    },
    {
      "cell_type": "markdown",
      "source": [
        "### 水流モデルと電磁気学"
      ],
      "metadata": {
        "id": "ZA5nVkpbyLKA"
      }
    },
    {
      "cell_type": "markdown",
      "source": [
        "- 水流モデルと電磁気学のアナロジーを利用すると、ある程度視覚的に電気学を理解でします。\n",
        "- しかし、アナロジーが通じない部分もあるのでそこをよく理解してください。(特に電磁誘導)\n",
        "\n"
      ],
      "metadata": {
        "id": "NdwwEGGfykSG"
      }
    },
    {
      "cell_type": "code",
      "source": [
        "#@title 電流の水流モデル\n",
        "%%html\n",
        "<iframe width=\"560\" height=\"315\" src=\"https://www.youtube-nocookie.com/embed/YK3tSdC9xvM?si=RSrZKndjmAwfS6CM\" title=\"YouTube video player\" frameborder=\"0\" allow=\"accelerometer; autoplay; clipboard-write; encrypted-media; gyroscope; picture-in-picture; web-share\" referrerpolicy=\"strict-origin-when-cross-origin\" allowfullscreen></iframe>"
      ],
      "metadata": {
        "colab": {
          "base_uri": "https://localhost:8080/",
          "height": 336
        },
        "cellView": "form",
        "id": "T2GJQ5Ux_IwV",
        "outputId": "0ba5ce01-2f36-49bc-e3df-31f80e1a6f10"
      },
      "execution_count": null,
      "outputs": [
        {
          "output_type": "display_data",
          "data": {
            "text/plain": [
              "<IPython.core.display.HTML object>"
            ],
            "text/html": [
              "<iframe width=\"560\" height=\"315\" src=\"https://www.youtube-nocookie.com/embed/YK3tSdC9xvM?si=RSrZKndjmAwfS6CM\" title=\"YouTube video player\" frameborder=\"0\" allow=\"accelerometer; autoplay; clipboard-write; encrypted-media; gyroscope; picture-in-picture; web-share\" referrerpolicy=\"strict-origin-when-cross-origin\" allowfullscreen></iframe>\n"
            ]
          },
          "metadata": {}
        }
      ]
    },
    {
      "cell_type": "markdown",
      "source": [
        "## この講義で学もの"
      ],
      "metadata": {
        "id": "rlmYPv2AuOQt"
      }
    },
    {
      "cell_type": "markdown",
      "source": [
        "- 4.5 電流と電圧\n",
        "    - 4.5.1 電流\n",
        "    - 4.5.2 オームの法則\n",
        "    - 4.5.3 電力とジュール熱\n",
        "- 4.6 直流回路\n",
        "    - 4.6.1抵抗の接続\n",
        "    - 4.6.2 電池の起電力と内部抵抗\n",
        "    - 4.6.3 電流計と電圧計\n",
        "    - 4.6.4 キルヒホッフの法則\n",
        "\n",
        "- 4.7 電流と磁界\n",
        "    - 4.7.1 磁石による磁界\n",
        "    - 4.7.2 電流による磁界\n",
        "    - 4.7.3 電流が磁界から受ける力\n",
        "- 4.8 電磁誘導と交流\n",
        "    - 4.8.1 電磁誘導\n",
        "    - 4.8.2 交流\n",
        "\n",
        "- 4.9 電磁波\n",
        "    - 4.9.1 電気振動\n",
        "    - 4.9.2 変動する電磁界と電磁波の発生\n",
        "    - 4.9.3 電磁波の種類 章末問題"
      ],
      "metadata": {
        "id": "CZF7-8biuFNT"
      }
    },
    {
      "cell_type": "markdown",
      "source": [
        "## 到達目標\n"
      ],
      "metadata": {
        "id": "hjR9IHpmS4tt"
      }
    },
    {
      "cell_type": "markdown",
      "source": [
        "0. 静電気力とコンデンサの復習\n",
        "1. キルヒホッフの法則を用いて，簡単な直流回路やコンデンサーを含む電流回路での電流・電荷・電圧を計算して求めることができる。\n",
        "2. 直線電流の作る磁界をイメージできる。また，その磁界が他の直線電流に及ぼす力を定性的・定量的に評価できる。\n",
        "3. 電磁誘導のメカニズム(レンツの法則・ファラデーの法則)を説明できる。\n",
        "4. 簡単な交流回路において電荷・電流・電圧を求めることができる。"
      ],
      "metadata": {
        "id": "R6bZV0MCkIBw"
      }
    },
    {
      "cell_type": "markdown",
      "metadata": {
        "id": "jwkzzXmmd_7T"
      },
      "source": [
        "## 課題\n"
      ]
    },
    {
      "cell_type": "markdown",
      "metadata": {
        "id": "zvW2yNYdB760"
      },
      "source": [
        "#### 講義演習\n",
        "\n",
        "毎回の講義終了後に, 問題を Google Classroom を通じて通知.\n",
        "  \n",
        "1. 各自, 出題した問題(4-7題)を講義都度, 取り組むこと.\n",
        "2. 状況が許す限り, 出題した問題で最も解説希望が多い問題を  \n",
        " **2,3題** だけ, 次の講義で担当教員が解説\n",
        "  - 解説希望については, Google classroom で集計\n",
        "  - 集計に対する回答は、姿勢として評価\n",
        "\n",
        "- 出題問題略解は次回の講義で、Google Classroom にて紹介。\n",
        "- 解説できなかった問題についても、略解を参照し自作の解説を提出してください。\n",
        "\n",
        "###### 提出と評価方法\n",
        "- 各自作成した講義毎の課題は,\n",
        "  1. 紙面上に自筆で作成\n",
        "    - 略解から得られた知見を、**<font color=\"red\"> 赤ペン </font>** で書き加え、改善する。\n",
        "    - 略解を参照し、解けなかった問題についても作成\n",
        "  1. 画像を撮影しPDF化する。\n",
        "    - [課題を提出する - パソコン - Classroom ヘルプ](https://support.google.com/edu/classroom/answer/6020285?hl=ja)\n",
        "      - Microsoft Lens: [Android 版](https://play.google.com/store/apps/details?id=com.microsoft.office.officelens&hl=ja&gl=US) [iOS 版](https://apps.apple.com/jp/app/microsoft-lens-pdf-scanner/id975925059)\n",
        "      - https://app-liv.jp/4444824/\n",
        "  1. Google classroom 経由で、変換したPDFを期日までに提出\n",
        "\n",
        "###### 評価チエック項目\n",
        "1. 期日は守れたか? 遅れた場合は受理しません.\n",
        "2. 第三者 {が読める,へ伝わる} 解答であるか?\n",
        "3. 略解を参考に自身の解答へ改善を試みた形跡はあるか？ **<font color=\"red\"> 赤ペン利用 </font>**\n",
        "4. 答え合わせをしているか？"
      ]
    }
  ]
}